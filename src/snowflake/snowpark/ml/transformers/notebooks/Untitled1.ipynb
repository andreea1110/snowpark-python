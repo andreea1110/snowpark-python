{
 "cells": [
  {
   "cell_type": "code",
   "execution_count": 13,
   "id": "221c60dd",
   "metadata": {},
   "outputs": [],
   "source": [
    "import sklearn\n",
    "import numpy as np\n",
    "from sklearn.impute import SimpleImputer\n",
    "imp_mean = SimpleImputer(missing_values=np.nan, strategy='mean')"
   ]
  },
  {
   "cell_type": "code",
   "execution_count": 14,
   "id": "d093deb7",
   "metadata": {},
   "outputs": [
    {
     "name": "stdout",
     "output_type": "stream",
     "text": [
      "[Row(CURRENT_WAREHOUSE()='COMPUTE_SERVICE_WAREHOUSE', CURRENT_DATABASE()='FEATURE_ENGINEERING', CURRENT_SCHEMA()='TRANSFORMERS')]\n"
     ]
    }
   ],
   "source": [
    "CONNECTION_PARAMETERS = {\n",
    "    'url': \"snowhouse.snowflakecomputing.com\",\n",
    "    'host': \"snowhouse.snowflakecomputing.com\",\n",
    "    'account': 'snowhouse',\n",
    "    'user': 'pdorairaj',\n",
    "    'authenticator': 'externalbrowser',\n",
    "    'schema': 'au',\n",
    "    'database': 'snowhouse_import',\n",
    "    'warehouse': 'snowhouse',\n",
    "}\n",
    "\n",
    "PRM_QA1 = {\n",
    "    'account': 'snowflake',\n",
    "    'user': 'admin',\n",
    "    'password': 'test',\n",
    "    'protocol': 'http',\n",
    "    'host': 'snowflake.qa1.int.snowflakecomputing.com',\n",
    "    'port': '8084',\n",
    "    'schema': 'public',\n",
    "    'database': 'bjiang',\n",
    "    'warehouse': 'compute_service_wh',   \n",
    "}\n",
    "\n",
    "PRM = {\n",
    "    'account': 'snowflake',\n",
    "    'user': 'admin',\n",
    "    'password': 'test',\n",
    "    'protocol': 'http',\n",
    "    'host': 'snowflake.dev.local',\n",
    "    'port': '8082',\n",
    "    'schema': 'transformers',\n",
    "    'database': 'feature_engineering',\n",
    "    'warehouse': 'compute_service_warehouse',   \n",
    "}\n",
    "from snowflake.snowpark import Session\n",
    "\n",
    "session = Session.builder.configs(PRM).create()\n",
    "print(session.sql('select current_warehouse(), current_database(), current_schema()').collect())"
   ]
  },
  {
   "cell_type": "code",
   "execution_count": 18,
   "id": "54974084",
   "metadata": {},
   "outputs": [],
   "source": [
    "df = session.sql('select * from iris_data').to_pandas()\n",
    "x = imp_mean.fit([df['COL1']])"
   ]
  },
  {
   "cell_type": "code",
   "execution_count": 15,
   "id": "17a07c2b",
   "metadata": {},
   "outputs": [],
   "source": [
    "from sklearn.preprocessing import MinMaxScaler\n",
    "scaler = MinMaxScaler()\n",
    "y = scaler.fit([df['COL1']])"
   ]
  },
  {
   "cell_type": "code",
   "execution_count": 25,
   "id": "d394c3a5",
   "metadata": {},
   "outputs": [
    {
     "name": "stdout",
     "output_type": "stream",
     "text": [
      "[Row(CURRENT_WAREHOUSE()='COMPUTE_SERVICE_WH', CURRENT_DATABASE()='BJIANG', CURRENT_SCHEMA()='PUBLIC')]\n"
     ]
    }
   ],
   "source": [
    "CONNECTION_PARAMETERS = {\n",
    "    'url': \"snowhouse.snowflakecomputing.com\",\n",
    "    'host': \"snowhouse.snowflakecomputing.com\",\n",
    "    'account': 'snowhouse',\n",
    "    'user': 'pdorairaj',\n",
    "    'authenticator': 'externalbrowser',\n",
    "    'schema': 'au',\n",
    "    'database': 'snowhouse_import',\n",
    "    'warehouse': 'snowhouse',\n",
    "}\n",
    "\n",
    "PRM_QA1 = {\n",
    "    'account': 'snowflake',\n",
    "    'user': 'admin',\n",
    "    'password': 'test',\n",
    "    'protocol': 'http',\n",
    "    'host': 'snowflake.qa1.int.snowflakecomputing.com',\n",
    "    'port': '8084',\n",
    "    'schema': 'public',\n",
    "    'database': 'bjiang',\n",
    "    'warehouse': 'compute_service_wh',   \n",
    "}\n",
    "\n",
    "PRM = {\n",
    "    'account': 'snowflake',\n",
    "    'user': 'admin',\n",
    "    'password': 'test',\n",
    "    'protocol': 'http',\n",
    "    'host': 'snowflake.dev.local',\n",
    "    'port': '8082',\n",
    "    'schema': 'transformers',\n",
    "    'database': 'feature_engineering',\n",
    "    'warehouse': 'compute_service_warehouse',   \n",
    "}\n",
    "from snowflake.snowpark import Session\n",
    "\n",
    "session = Session.builder.configs(PRM_QA1).create()\n",
    "print(session.sql('select current_warehouse(), current_database(), current_schema()').collect())\n"
   ]
  },
  {
   "cell_type": "code",
   "execution_count": 30,
   "id": "8e83119a",
   "metadata": {},
   "outputs": [
    {
     "name": "stdout",
     "output_type": "stream",
     "text": [
      "31468.875643 ms\n"
     ]
    }
   ],
   "source": [
    "from sklearn.pipeline import Pipeline\n",
    "s = time.time_ns()\n",
    "df = session.sql('select FARE_AMOUNT from nytrain').to_pandas()\n",
    "e = time.time_ns()\n",
    "print (str((e-s)/1000000) + \" ms\")"
   ]
  },
  {
   "cell_type": "code",
   "execution_count": 29,
   "id": "be208651",
   "metadata": {},
   "outputs": [
    {
     "name": "stdout",
     "output_type": "stream",
     "text": [
      "6992.680955 ms\n"
     ]
    }
   ],
   "source": [
    "import time\n",
    "s = time.time_ns()\n",
    "scaler = MinMaxScaler()\n",
    "imp_mean = SimpleImputer(missing_values=np.nan, strategy='mean')\n",
    "pipeline = Pipeline(steps = [('imputer', imp_mean),\n",
    "                             ('scaler', scaler)\n",
    "                            ])\n",
    "z = pipeline.fit([df['FARE_AMOUNT']], y=None)\n",
    "e = time.time_ns()\n",
    "print (str((e-s)/1000000) + \" ms\")"
   ]
  },
  {
   "cell_type": "code",
   "execution_count": 31,
   "id": "95aa71ad",
   "metadata": {},
   "outputs": [
    {
     "name": "stdout",
     "output_type": "stream",
     "text": [
      "2260.507235 ms\n"
     ]
    }
   ],
   "source": [
    "s = time.time_ns()\n",
    "transformed_data = pipeline.transform([df['FARE_AMOUNT']])\n",
    "e = time.time_ns()\n",
    "print (str((e-s)/1000000) + \" ms\")"
   ]
  },
  {
   "cell_type": "code",
   "execution_count": null,
   "id": "f65f6247",
   "metadata": {},
   "outputs": [],
   "source": []
  }
 ],
 "metadata": {
  "kernelspec": {
   "display_name": "Python 3 (ipykernel)",
   "language": "python",
   "name": "python3"
  },
  "language_info": {
   "codemirror_mode": {
    "name": "ipython",
    "version": 3
   },
   "file_extension": ".py",
   "mimetype": "text/x-python",
   "name": "python",
   "nbconvert_exporter": "python",
   "pygments_lexer": "ipython3",
   "version": "3.8.12"
  }
 },
 "nbformat": 4,
 "nbformat_minor": 5
}
