{
 "cells": [
  {
   "cell_type": "code",
   "execution_count": 1,
   "id": "40bde0e5",
   "metadata": {},
   "outputs": [
    {
     "name": "stdout",
     "output_type": "stream",
     "text": [
      "[Row(CURRENT_WAREHOUSE()='COMPUTE_SERVICE_WH', CURRENT_DATABASE()='BJIANG', CURRENT_SCHEMA()='PUBLIC')]\n"
     ]
    }
   ],
   "source": [
    "CONNECTION_PARAMETERS = {\n",
    "    'url': \"snowhouse.snowflakecomputing.com\",\n",
    "    'host': \"snowhouse.snowflakecomputing.com\",\n",
    "    'account': 'snowhouse',\n",
    "    'user': 'pdorairaj',\n",
    "    'authenticator': 'externalbrowser',\n",
    "    'schema': 'au',\n",
    "    'database': 'snowhouse_import',\n",
    "    'warehouse': 'snowhouse',\n",
    "}\n",
    "\n",
    "PRM_QA1 = {\n",
    "    'account': 'snowflake',\n",
    "    'user': 'admin',\n",
    "    'password': 'test',\n",
    "    'protocol': 'http',\n",
    "    'host': 'snowflake.qa1.int.snowflakecomputing.com',\n",
    "    'port': '8084',\n",
    "    'schema': 'public',\n",
    "    'database': 'bjiang',\n",
    "    'warehouse': 'compute_service_wh',   \n",
    "}\n",
    "\n",
    "PRM = {\n",
    "    'account': 'snowflake',\n",
    "    'user': 'admin',\n",
    "    'password': 'test',\n",
    "    'protocol': 'http',\n",
    "    'host': 'snowflake.dev.local',\n",
    "    'port': '8082',\n",
    "    'schema': 'transformers',\n",
    "    'database': 'feature_engineering',\n",
    "    'warehouse': 'compute_service_warehouse',   \n",
    "}\n",
    "from snowflake.snowpark import Session\n",
    "\n",
    "session = Session.builder.configs(PRM_QA1).create()\n",
    "print(session.sql('select current_warehouse(), current_database(), current_schema()').collect())\n"
   ]
  },
  {
   "cell_type": "code",
   "execution_count": 2,
   "id": "c322a8fa",
   "metadata": {},
   "outputs": [
    {
     "name": "stdout",
     "output_type": "stream",
     "text": [
      "[Row(CURRENT_WAREHOUSE()='COMPUTE_SERVICE_WAREHOUSE', CURRENT_DATABASE()='FEATURE_ENGINEERING', CURRENT_SCHEMA()='TRANSFORMERS')]\n",
      "insert into columns_metadata select '08fc8df7-d0cb-4176-a0d3-9e642416be36', 'COL1', 'double', 'place_holder', false, NULL, object_construct('min', 1.0,'max', 7.9,'avg', 5.748366013071895);\n",
      "insert into columns_metadata select '08fc8df7-d0cb-4176-a0d3-9e642416be36', 'COL2', 'double', 'place_holder', false, NULL, object_construct('min', 2.0,'max', 4.4,'avg', 3.036601307189543);\n",
      "insert into columns_metadata select '08fc8df7-d0cb-4176-a0d3-9e642416be36', 'COL3', 'double', 'place_holder', false, NULL, object_construct('min', 1.0,'max', 6.9,'avg', 3.7580000000000005);\n",
      "insert into columns_metadata select '08fc8df7-d0cb-4176-a0d3-9e642416be36', 'COL4', 'double', 'place_holder', false, NULL, object_construct('min', 0.1,'max', 5.567,'avg', 1.2282582781456954);\n",
      "insert into columns_metadata select '08fc8df7-d0cb-4176-a0d3-9e642416be36', 'PREDICT', 'double', 'place_holder', false, NULL, object_construct('min', 0,'max', 2,'avg', 0.980392);\n",
      "select * from columns_metadata where dataset_version = '08fc8df7-d0cb-4176-a0d3-9e642416be36' and column_name = 'COL3';\n",
      "insert into columns_metadata select '08fc8df7-d0cb-4176-a0d3-9e642416be36', 'COL3_imputed', 'double', 'place_holder', false, NULL, object_construct('min', 1,'max', 6.9,'avg', 3.7580000000000005);\n",
      "select * from columns_metadata where dataset_version = '08fc8df7-d0cb-4176-a0d3-9e642416be36' and column_name = 'COL4';\n",
      "insert into columns_metadata select '08fc8df7-d0cb-4176-a0d3-9e642416be36', 'COL4_imputed', 'double', 'place_holder', false, NULL, object_construct('min', 0.1,'max', 5.567,'avg', 1.2282582781456954);\n",
      "select * from columns_metadata where dataset_version = '08fc8df7-d0cb-4176-a0d3-9e642416be36' and column_name = 'COL3';\n",
      "select * from columns_metadata where dataset_version = '08fc8df7-d0cb-4176-a0d3-9e642416be36' and column_name = 'COL4';\n",
      "with temp_table_e4ebb664_6315_4bd5_b1dd_08ac4ed51486 as ( select * from iris_data ) select *, coalesce(COL3, 3.7580000000000005) as COL3_imputed, coalesce(COL4, 1.2282582781456954) as COL4_imputed from temp_table_e4ebb664_6315_4bd5_b1dd_08ac4ed51486\n",
      "select * from columns_metadata where dataset_version = '08fc8df7-d0cb-4176-a0d3-9e642416be36' and column_name = 'COL3_imputed';\n",
      "select * from columns_metadata where dataset_version = '08fc8df7-d0cb-4176-a0d3-9e642416be36' and column_name = 'COL4_imputed';\n",
      "select * from columns_metadata where dataset_version = '08fc8df7-d0cb-4176-a0d3-9e642416be36' and column_name = 'COL3';\n",
      "select * from columns_metadata where dataset_version = '08fc8df7-d0cb-4176-a0d3-9e642416be36' and column_name = 'COL4';\n",
      "with temp_table_76aaf86e_54f8_495e_b49f_5dd4b533c92f as ( select * from iris_data ) select *, coalesce(COL3, 3.7580000000000005) as COL3_imputed, coalesce(COL4, 1.2282582781456954) as COL4_imputed from temp_table_76aaf86e_54f8_495e_b49f_5dd4b533c92f\n",
      "select * from columns_metadata where dataset_version = '08fc8df7-d0cb-4176-a0d3-9e642416be36' and column_name = 'COL3_imputed';\n",
      "select * from columns_metadata where dataset_version = '08fc8df7-d0cb-4176-a0d3-9e642416be36' and column_name = 'COL4_imputed';\n"
     ]
    },
    {
     "data": {
      "text/html": [
       "<div>\n",
       "<style scoped>\n",
       "    .dataframe tbody tr th:only-of-type {\n",
       "        vertical-align: middle;\n",
       "    }\n",
       "\n",
       "    .dataframe tbody tr th {\n",
       "        vertical-align: top;\n",
       "    }\n",
       "\n",
       "    .dataframe thead th {\n",
       "        text-align: right;\n",
       "    }\n",
       "</style>\n",
       "<table border=\"1\" class=\"dataframe\">\n",
       "  <thead>\n",
       "    <tr style=\"text-align: right;\">\n",
       "      <th></th>\n",
       "      <th>COL1</th>\n",
       "      <th>COL2</th>\n",
       "      <th>COL3</th>\n",
       "      <th>COL4</th>\n",
       "      <th>PREDICT</th>\n",
       "      <th>COL3_IMPUTED</th>\n",
       "      <th>COL4_IMPUTED</th>\n",
       "      <th>COL3_SCALED</th>\n",
       "      <th>COL4_SCALED</th>\n",
       "    </tr>\n",
       "  </thead>\n",
       "  <tbody>\n",
       "    <tr>\n",
       "      <th>0</th>\n",
       "      <td>5.1</td>\n",
       "      <td>3.5</td>\n",
       "      <td>1.4</td>\n",
       "      <td>0.200</td>\n",
       "      <td>0</td>\n",
       "      <td>1.400</td>\n",
       "      <td>0.200000</td>\n",
       "      <td>0.067797</td>\n",
       "      <td>0.018292</td>\n",
       "    </tr>\n",
       "    <tr>\n",
       "      <th>1</th>\n",
       "      <td>4.9</td>\n",
       "      <td>3.0</td>\n",
       "      <td>1.4</td>\n",
       "      <td>0.200</td>\n",
       "      <td>0</td>\n",
       "      <td>1.400</td>\n",
       "      <td>0.200000</td>\n",
       "      <td>0.067797</td>\n",
       "      <td>0.018292</td>\n",
       "    </tr>\n",
       "    <tr>\n",
       "      <th>2</th>\n",
       "      <td>4.7</td>\n",
       "      <td>3.2</td>\n",
       "      <td>1.3</td>\n",
       "      <td>0.200</td>\n",
       "      <td>0</td>\n",
       "      <td>1.300</td>\n",
       "      <td>0.200000</td>\n",
       "      <td>0.050847</td>\n",
       "      <td>0.018292</td>\n",
       "    </tr>\n",
       "    <tr>\n",
       "      <th>3</th>\n",
       "      <td>4.6</td>\n",
       "      <td>3.1</td>\n",
       "      <td>1.5</td>\n",
       "      <td>0.200</td>\n",
       "      <td>0</td>\n",
       "      <td>1.500</td>\n",
       "      <td>0.200000</td>\n",
       "      <td>0.084746</td>\n",
       "      <td>0.018292</td>\n",
       "    </tr>\n",
       "    <tr>\n",
       "      <th>4</th>\n",
       "      <td>5.0</td>\n",
       "      <td>3.6</td>\n",
       "      <td>1.4</td>\n",
       "      <td>0.200</td>\n",
       "      <td>0</td>\n",
       "      <td>1.400</td>\n",
       "      <td>0.200000</td>\n",
       "      <td>0.067797</td>\n",
       "      <td>0.018292</td>\n",
       "    </tr>\n",
       "    <tr>\n",
       "      <th>...</th>\n",
       "      <td>...</td>\n",
       "      <td>...</td>\n",
       "      <td>...</td>\n",
       "      <td>...</td>\n",
       "      <td>...</td>\n",
       "      <td>...</td>\n",
       "      <td>...</td>\n",
       "      <td>...</td>\n",
       "      <td>...</td>\n",
       "    </tr>\n",
       "    <tr>\n",
       "      <th>148</th>\n",
       "      <td>6.2</td>\n",
       "      <td>3.4</td>\n",
       "      <td>5.4</td>\n",
       "      <td>2.300</td>\n",
       "      <td>2</td>\n",
       "      <td>5.400</td>\n",
       "      <td>2.300000</td>\n",
       "      <td>0.745763</td>\n",
       "      <td>0.402414</td>\n",
       "    </tr>\n",
       "    <tr>\n",
       "      <th>149</th>\n",
       "      <td>5.9</td>\n",
       "      <td>3.0</td>\n",
       "      <td>5.1</td>\n",
       "      <td>1.800</td>\n",
       "      <td>2</td>\n",
       "      <td>5.100</td>\n",
       "      <td>1.800000</td>\n",
       "      <td>0.694915</td>\n",
       "      <td>0.310957</td>\n",
       "    </tr>\n",
       "    <tr>\n",
       "      <th>150</th>\n",
       "      <td>1.0</td>\n",
       "      <td>2.0</td>\n",
       "      <td>NaN</td>\n",
       "      <td>NaN</td>\n",
       "      <td>0</td>\n",
       "      <td>3.758</td>\n",
       "      <td>1.228258</td>\n",
       "      <td>0.467458</td>\n",
       "      <td>0.206376</td>\n",
       "    </tr>\n",
       "    <tr>\n",
       "      <th>151</th>\n",
       "      <td>1.0</td>\n",
       "      <td>2.0</td>\n",
       "      <td>NaN</td>\n",
       "      <td>5.567</td>\n",
       "      <td>0</td>\n",
       "      <td>3.758</td>\n",
       "      <td>5.567000</td>\n",
       "      <td>0.467458</td>\n",
       "      <td>1.000000</td>\n",
       "    </tr>\n",
       "    <tr>\n",
       "      <th>152</th>\n",
       "      <td>1.0</td>\n",
       "      <td>2.0</td>\n",
       "      <td>NaN</td>\n",
       "      <td>NaN</td>\n",
       "      <td>0</td>\n",
       "      <td>3.758</td>\n",
       "      <td>1.228258</td>\n",
       "      <td>0.467458</td>\n",
       "      <td>0.206376</td>\n",
       "    </tr>\n",
       "  </tbody>\n",
       "</table>\n",
       "<p>153 rows × 9 columns</p>\n",
       "</div>"
      ],
      "text/plain": [
       "     COL1  COL2  COL3   COL4  PREDICT  COL3_IMPUTED  COL4_IMPUTED  \\\n",
       "0     5.1   3.5   1.4  0.200        0         1.400      0.200000   \n",
       "1     4.9   3.0   1.4  0.200        0         1.400      0.200000   \n",
       "2     4.7   3.2   1.3  0.200        0         1.300      0.200000   \n",
       "3     4.6   3.1   1.5  0.200        0         1.500      0.200000   \n",
       "4     5.0   3.6   1.4  0.200        0         1.400      0.200000   \n",
       "..    ...   ...   ...    ...      ...           ...           ...   \n",
       "148   6.2   3.4   5.4  2.300        2         5.400      2.300000   \n",
       "149   5.9   3.0   5.1  1.800        2         5.100      1.800000   \n",
       "150   1.0   2.0   NaN    NaN        0         3.758      1.228258   \n",
       "151   1.0   2.0   NaN  5.567        0         3.758      5.567000   \n",
       "152   1.0   2.0   NaN    NaN        0         3.758      1.228258   \n",
       "\n",
       "     COL3_SCALED  COL4_SCALED  \n",
       "0       0.067797     0.018292  \n",
       "1       0.067797     0.018292  \n",
       "2       0.050847     0.018292  \n",
       "3       0.084746     0.018292  \n",
       "4       0.067797     0.018292  \n",
       "..           ...          ...  \n",
       "148     0.745763     0.402414  \n",
       "149     0.694915     0.310957  \n",
       "150     0.467458     0.206376  \n",
       "151     0.467458     1.000000  \n",
       "152     0.467458     0.206376  \n",
       "\n",
       "[153 rows x 9 columns]"
      ]
     },
     "execution_count": 2,
     "metadata": {},
     "output_type": "execute_result"
    }
   ],
   "source": [
    "print(session.sql('select current_warehouse(), current_database(), current_schema()').collect())\n",
    "\n",
    "dataframe = session.sql('select * from iris_data')\n",
    "dataset = session.dataset(dataframe)\n",
    "min_max_scaler1 = session.MinMaxEstimator(input_columns=['COL1', 'COL2'],\n",
    "                                          output_columns=['COL1_scaled', 'COL2_scaled']\n",
    "                                         );\n",
    "imputer = session.Imputer(input_columns=['COL3', 'COL4'],\n",
    "                          output_columns=['COL3_imputed', 'COL4_imputed']\n",
    "                         );\n",
    "min_max_scaler2 = session.MinMaxEstimator(input_columns=['COL3_imputed', 'COL4_imputed'],\n",
    "                                          output_columns=['COL3_scaled', 'COL4_scaled']\n",
    "                                         );\n",
    "pipeline = session.Pipeline([imputer, min_max_scaler2])\n",
    "pipeline = pipeline.fit(dataset)\n",
    "dataset = pipeline.transform(dataset)\n",
    "\n",
    "#pt_dataset = snowml.torch.dataset(dataset)\n",
    "\n",
    "#model = nn.Model\n",
    "\n",
    "#for batch in dataloader(pt_dataset):\n",
    "    \n",
    "dataset.to_pandas()\n",
    "\n",
    "\n",
    "# Or:\n",
    "\n",
    "#res = session.table('DEPLOYMENT_METADATA').collect()"
   ]
  },
  {
   "cell_type": "code",
   "execution_count": 3,
   "id": "2ac57ff2",
   "metadata": {},
   "outputs": [
    {
     "name": "stdout",
     "output_type": "stream",
     "text": [
      "select * from columns_metadata where dataset_version = 'cexzaqnjug' and column_name = 'COL1';\n",
      "select * from columns_metadata where dataset_version = 'cexzaqnjug' and column_name = 'COL2';\n"
     ]
    },
    {
     "data": {
      "text/plain": [
       "<snowflake.snowpark.dataframe.DataFrame at 0x7f7d95128100>"
      ]
     },
     "execution_count": 3,
     "metadata": {},
     "output_type": "execute_result"
    }
   ],
   "source": [
    "dataset = session.sql('select * from iris_data')\n",
    "dataset = session.dataset(dataset)\n",
    "# use stored procedure\n",
    "dataset\n",
    "\n",
    "min_max_scaler = session.MinMaxEstimator(input_columns=['COL1', 'COL2'], output_columns=['COL1_scaled', 'COL2_scaled']);\n",
    "min_max_model = min_max_scaler.fit(dataset)\n",
    "min_max_model\n",
    "# use Stored Procedure \n",
    "# fit_run_id = storedprocedure(dataframe, input_cols, output_cols)\n",
    "dataset = min_max_model.transform(dataset)\n",
    "dataset\n",
    "# transform will be a SP\n",
    "\n",
    "# dataframe = storedprocedure(dataframe, fit_run_id) -- instead of returning a dataframe, we can return a column expression"
   ]
  },
  {
   "cell_type": "code",
   "execution_count": 2,
   "id": "6d6b60b5",
   "metadata": {},
   "outputs": [],
   "source": [
    "imputer = session.Imputer(input_columns=['COL3', 'COL4'],\n",
    "                          output_columns=['COL3_imputed', 'COL4_imputed']\n",
    "                         );"
   ]
  },
  {
   "cell_type": "code",
   "execution_count": 3,
   "id": "72de2c94",
   "metadata": {},
   "outputs": [
    {
     "name": "stdout",
     "output_type": "stream",
     "text": [
      "insert into columns_metadata select '9e4dd98e-e20c-4d58-b327-b88cf5677839', 'COL1', 'double', 'place_holder', false, NULL, object_construct('min', 1.0,'max', 7.9,'avg', 5.779605263157895);\n",
      "insert into columns_metadata select '9e4dd98e-e20c-4d58-b327-b88cf5677839', 'COL2', 'double', 'place_holder', false, NULL, object_construct('min', 2.0,'max', 4.4,'avg', 3.043421052631579);\n",
      "insert into columns_metadata select '9e4dd98e-e20c-4d58-b327-b88cf5677839', 'COL3', 'double', 'place_holder', false, NULL, object_construct('min', 1.0,'max', 6.9,'avg', 3.7580000000000005);\n",
      "insert into columns_metadata select '9e4dd98e-e20c-4d58-b327-b88cf5677839', 'COL4', 'double', 'place_holder', false, NULL, object_construct('min', 0.1,'max', 5.567,'avg', 1.2282582781456954);\n",
      "insert into columns_metadata select '9e4dd98e-e20c-4d58-b327-b88cf5677839', 'PREDICT', 'double', 'place_holder', false, NULL, object_construct('min', 0,'max', 2,'avg', 0.986842);\n",
      "select * from columns_metadata where dataset_version = '9e4dd98e-e20c-4d58-b327-b88cf5677839' and column_name = 'COL3';\n",
      "insert into columns_metadata select '9e4dd98e-e20c-4d58-b327-b88cf5677839', 'COL3_imputed', 'double', 'place_holder', false, NULL, object_construct('min', 1,'max', 6.9,'avg', 3.7580000000000005);\n",
      "select * from columns_metadata where dataset_version = '9e4dd98e-e20c-4d58-b327-b88cf5677839' and column_name = 'COL4';\n",
      "insert into columns_metadata select '9e4dd98e-e20c-4d58-b327-b88cf5677839', 'COL4_imputed', 'double', 'place_holder', false, NULL, object_construct('min', 0.1,'max', 5.567,'avg', 1.2282582781456954);\n"
     ]
    }
   ],
   "source": [
    "dataset = session.sql('select * from iris_data')\n",
    "dataset = session.dataset(dataset)\n",
    "m = imputer.fit(dataset)"
   ]
  },
  {
   "cell_type": "code",
   "execution_count": 4,
   "id": "6afce056",
   "metadata": {},
   "outputs": [
    {
     "data": {
      "text/plain": [
       "<snowflake.snowpark.session.Session.ImputerModel at 0x7f0d8a2840a0>"
      ]
     },
     "execution_count": 4,
     "metadata": {},
     "output_type": "execute_result"
    }
   ],
   "source": [
    "m"
   ]
  },
  {
   "cell_type": "code",
   "execution_count": 5,
   "id": "26276e4d",
   "metadata": {},
   "outputs": [
    {
     "name": "stdout",
     "output_type": "stream",
     "text": [
      "select * from columns_metadata where dataset_version = '9e4dd98e-e20c-4d58-b327-b88cf5677839' and column_name = 'COL3';\n",
      "select * from columns_metadata where dataset_version = '9e4dd98e-e20c-4d58-b327-b88cf5677839' and column_name = 'COL4';\n",
      "with temp_table as ( select * from iris_data ) select *, coalesce(COL3, 3.7580000000000005) as COL3_imputed, coalesce(COL4, 1.2282582781456954) as COL4_imputed from temp_table\n"
     ]
    },
    {
     "data": {
      "text/html": [
       "<div>\n",
       "<style scoped>\n",
       "    .dataframe tbody tr th:only-of-type {\n",
       "        vertical-align: middle;\n",
       "    }\n",
       "\n",
       "    .dataframe tbody tr th {\n",
       "        vertical-align: top;\n",
       "    }\n",
       "\n",
       "    .dataframe thead th {\n",
       "        text-align: right;\n",
       "    }\n",
       "</style>\n",
       "<table border=\"1\" class=\"dataframe\">\n",
       "  <thead>\n",
       "    <tr style=\"text-align: right;\">\n",
       "      <th></th>\n",
       "      <th>COL1</th>\n",
       "      <th>COL2</th>\n",
       "      <th>COL3</th>\n",
       "      <th>COL4</th>\n",
       "      <th>PREDICT</th>\n",
       "      <th>COL3_IMPUTED</th>\n",
       "      <th>COL4_IMPUTED</th>\n",
       "    </tr>\n",
       "  </thead>\n",
       "  <tbody>\n",
       "    <tr>\n",
       "      <th>0</th>\n",
       "      <td>5.1</td>\n",
       "      <td>3.5</td>\n",
       "      <td>1.4</td>\n",
       "      <td>0.200</td>\n",
       "      <td>0</td>\n",
       "      <td>1.400</td>\n",
       "      <td>0.200000</td>\n",
       "    </tr>\n",
       "    <tr>\n",
       "      <th>1</th>\n",
       "      <td>4.9</td>\n",
       "      <td>3.0</td>\n",
       "      <td>1.4</td>\n",
       "      <td>0.200</td>\n",
       "      <td>0</td>\n",
       "      <td>1.400</td>\n",
       "      <td>0.200000</td>\n",
       "    </tr>\n",
       "    <tr>\n",
       "      <th>2</th>\n",
       "      <td>4.7</td>\n",
       "      <td>3.2</td>\n",
       "      <td>1.3</td>\n",
       "      <td>0.200</td>\n",
       "      <td>0</td>\n",
       "      <td>1.300</td>\n",
       "      <td>0.200000</td>\n",
       "    </tr>\n",
       "    <tr>\n",
       "      <th>3</th>\n",
       "      <td>4.6</td>\n",
       "      <td>3.1</td>\n",
       "      <td>1.5</td>\n",
       "      <td>0.200</td>\n",
       "      <td>0</td>\n",
       "      <td>1.500</td>\n",
       "      <td>0.200000</td>\n",
       "    </tr>\n",
       "    <tr>\n",
       "      <th>4</th>\n",
       "      <td>5.0</td>\n",
       "      <td>3.6</td>\n",
       "      <td>1.4</td>\n",
       "      <td>0.200</td>\n",
       "      <td>0</td>\n",
       "      <td>1.400</td>\n",
       "      <td>0.200000</td>\n",
       "    </tr>\n",
       "    <tr>\n",
       "      <th>...</th>\n",
       "      <td>...</td>\n",
       "      <td>...</td>\n",
       "      <td>...</td>\n",
       "      <td>...</td>\n",
       "      <td>...</td>\n",
       "      <td>...</td>\n",
       "      <td>...</td>\n",
       "    </tr>\n",
       "    <tr>\n",
       "      <th>147</th>\n",
       "      <td>6.5</td>\n",
       "      <td>3.0</td>\n",
       "      <td>5.2</td>\n",
       "      <td>2.000</td>\n",
       "      <td>2</td>\n",
       "      <td>5.200</td>\n",
       "      <td>2.000000</td>\n",
       "    </tr>\n",
       "    <tr>\n",
       "      <th>148</th>\n",
       "      <td>6.2</td>\n",
       "      <td>3.4</td>\n",
       "      <td>5.4</td>\n",
       "      <td>2.300</td>\n",
       "      <td>2</td>\n",
       "      <td>5.400</td>\n",
       "      <td>2.300000</td>\n",
       "    </tr>\n",
       "    <tr>\n",
       "      <th>149</th>\n",
       "      <td>5.9</td>\n",
       "      <td>3.0</td>\n",
       "      <td>5.1</td>\n",
       "      <td>1.800</td>\n",
       "      <td>2</td>\n",
       "      <td>5.100</td>\n",
       "      <td>1.800000</td>\n",
       "    </tr>\n",
       "    <tr>\n",
       "      <th>150</th>\n",
       "      <td>1.0</td>\n",
       "      <td>2.0</td>\n",
       "      <td>NaN</td>\n",
       "      <td>NaN</td>\n",
       "      <td>0</td>\n",
       "      <td>3.758</td>\n",
       "      <td>1.228258</td>\n",
       "    </tr>\n",
       "    <tr>\n",
       "      <th>151</th>\n",
       "      <td>1.0</td>\n",
       "      <td>2.0</td>\n",
       "      <td>NaN</td>\n",
       "      <td>5.567</td>\n",
       "      <td>0</td>\n",
       "      <td>3.758</td>\n",
       "      <td>5.567000</td>\n",
       "    </tr>\n",
       "  </tbody>\n",
       "</table>\n",
       "<p>152 rows × 7 columns</p>\n",
       "</div>"
      ],
      "text/plain": [
       "     COL1  COL2  COL3   COL4  PREDICT  COL3_IMPUTED  COL4_IMPUTED\n",
       "0     5.1   3.5   1.4  0.200        0         1.400      0.200000\n",
       "1     4.9   3.0   1.4  0.200        0         1.400      0.200000\n",
       "2     4.7   3.2   1.3  0.200        0         1.300      0.200000\n",
       "3     4.6   3.1   1.5  0.200        0         1.500      0.200000\n",
       "4     5.0   3.6   1.4  0.200        0         1.400      0.200000\n",
       "..    ...   ...   ...    ...      ...           ...           ...\n",
       "147   6.5   3.0   5.2  2.000        2         5.200      2.000000\n",
       "148   6.2   3.4   5.4  2.300        2         5.400      2.300000\n",
       "149   5.9   3.0   5.1  1.800        2         5.100      1.800000\n",
       "150   1.0   2.0   NaN    NaN        0         3.758      1.228258\n",
       "151   1.0   2.0   NaN  5.567        0         3.758      5.567000\n",
       "\n",
       "[152 rows x 7 columns]"
      ]
     },
     "execution_count": 5,
     "metadata": {},
     "output_type": "execute_result"
    }
   ],
   "source": [
    "d = m.transform(dataset)\n",
    "d.to_pandas()"
   ]
  },
  {
   "cell_type": "code",
   "execution_count": 4,
   "id": "489d22ac",
   "metadata": {},
   "outputs": [
    {
     "name": "stdout",
     "output_type": "stream",
     "text": [
      "select * from columns_metadata where dataset_version = 'cexzaqnjug' and column_name = 'COL3';\n",
      "select * from columns_metadata where dataset_version = 'cexzaqnjug' and column_name = 'COL4';\n"
     ]
    },
    {
     "data": {
      "text/html": [
       "<div>\n",
       "<style scoped>\n",
       "    .dataframe tbody tr th:only-of-type {\n",
       "        vertical-align: middle;\n",
       "    }\n",
       "\n",
       "    .dataframe tbody tr th {\n",
       "        vertical-align: top;\n",
       "    }\n",
       "\n",
       "    .dataframe thead th {\n",
       "        text-align: right;\n",
       "    }\n",
       "</style>\n",
       "<table border=\"1\" class=\"dataframe\">\n",
       "  <thead>\n",
       "    <tr style=\"text-align: right;\">\n",
       "      <th></th>\n",
       "      <th>COL1</th>\n",
       "      <th>COL2</th>\n",
       "      <th>COL3</th>\n",
       "      <th>COL4</th>\n",
       "      <th>PREDICT</th>\n",
       "      <th>COL1_SCALED</th>\n",
       "      <th>COL2_SCALED</th>\n",
       "      <th>COL3_SCALED</th>\n",
       "      <th>COL4_SCALED</th>\n",
       "    </tr>\n",
       "  </thead>\n",
       "  <tbody>\n",
       "    <tr>\n",
       "      <th>0</th>\n",
       "      <td>5.1</td>\n",
       "      <td>3.5</td>\n",
       "      <td>1.4</td>\n",
       "      <td>0.2</td>\n",
       "      <td>0</td>\n",
       "      <td>0.222222</td>\n",
       "      <td>0.625000</td>\n",
       "      <td>0.067797</td>\n",
       "      <td>0.041667</td>\n",
       "    </tr>\n",
       "    <tr>\n",
       "      <th>1</th>\n",
       "      <td>4.9</td>\n",
       "      <td>3.0</td>\n",
       "      <td>1.4</td>\n",
       "      <td>0.2</td>\n",
       "      <td>0</td>\n",
       "      <td>0.166667</td>\n",
       "      <td>0.416667</td>\n",
       "      <td>0.067797</td>\n",
       "      <td>0.041667</td>\n",
       "    </tr>\n",
       "    <tr>\n",
       "      <th>2</th>\n",
       "      <td>4.7</td>\n",
       "      <td>3.2</td>\n",
       "      <td>1.3</td>\n",
       "      <td>0.2</td>\n",
       "      <td>0</td>\n",
       "      <td>0.111111</td>\n",
       "      <td>0.500000</td>\n",
       "      <td>0.050847</td>\n",
       "      <td>0.041667</td>\n",
       "    </tr>\n",
       "    <tr>\n",
       "      <th>3</th>\n",
       "      <td>4.6</td>\n",
       "      <td>3.1</td>\n",
       "      <td>1.5</td>\n",
       "      <td>0.2</td>\n",
       "      <td>0</td>\n",
       "      <td>0.083333</td>\n",
       "      <td>0.458333</td>\n",
       "      <td>0.084746</td>\n",
       "      <td>0.041667</td>\n",
       "    </tr>\n",
       "    <tr>\n",
       "      <th>4</th>\n",
       "      <td>5.0</td>\n",
       "      <td>3.6</td>\n",
       "      <td>1.4</td>\n",
       "      <td>0.2</td>\n",
       "      <td>0</td>\n",
       "      <td>0.194444</td>\n",
       "      <td>0.666667</td>\n",
       "      <td>0.067797</td>\n",
       "      <td>0.041667</td>\n",
       "    </tr>\n",
       "    <tr>\n",
       "      <th>...</th>\n",
       "      <td>...</td>\n",
       "      <td>...</td>\n",
       "      <td>...</td>\n",
       "      <td>...</td>\n",
       "      <td>...</td>\n",
       "      <td>...</td>\n",
       "      <td>...</td>\n",
       "      <td>...</td>\n",
       "      <td>...</td>\n",
       "    </tr>\n",
       "    <tr>\n",
       "      <th>145</th>\n",
       "      <td>6.7</td>\n",
       "      <td>3.0</td>\n",
       "      <td>5.2</td>\n",
       "      <td>2.3</td>\n",
       "      <td>2</td>\n",
       "      <td>0.666667</td>\n",
       "      <td>0.416667</td>\n",
       "      <td>0.711864</td>\n",
       "      <td>0.916667</td>\n",
       "    </tr>\n",
       "    <tr>\n",
       "      <th>146</th>\n",
       "      <td>6.3</td>\n",
       "      <td>2.5</td>\n",
       "      <td>5.0</td>\n",
       "      <td>1.9</td>\n",
       "      <td>2</td>\n",
       "      <td>0.555556</td>\n",
       "      <td>0.208333</td>\n",
       "      <td>0.677966</td>\n",
       "      <td>0.750000</td>\n",
       "    </tr>\n",
       "    <tr>\n",
       "      <th>147</th>\n",
       "      <td>6.5</td>\n",
       "      <td>3.0</td>\n",
       "      <td>5.2</td>\n",
       "      <td>2.0</td>\n",
       "      <td>2</td>\n",
       "      <td>0.611111</td>\n",
       "      <td>0.416667</td>\n",
       "      <td>0.711864</td>\n",
       "      <td>0.791667</td>\n",
       "    </tr>\n",
       "    <tr>\n",
       "      <th>148</th>\n",
       "      <td>6.2</td>\n",
       "      <td>3.4</td>\n",
       "      <td>5.4</td>\n",
       "      <td>2.3</td>\n",
       "      <td>2</td>\n",
       "      <td>0.527778</td>\n",
       "      <td>0.583333</td>\n",
       "      <td>0.745763</td>\n",
       "      <td>0.916667</td>\n",
       "    </tr>\n",
       "    <tr>\n",
       "      <th>149</th>\n",
       "      <td>5.9</td>\n",
       "      <td>3.0</td>\n",
       "      <td>5.1</td>\n",
       "      <td>1.8</td>\n",
       "      <td>2</td>\n",
       "      <td>0.444444</td>\n",
       "      <td>0.416667</td>\n",
       "      <td>0.694915</td>\n",
       "      <td>0.708333</td>\n",
       "    </tr>\n",
       "  </tbody>\n",
       "</table>\n",
       "<p>150 rows × 9 columns</p>\n",
       "</div>"
      ],
      "text/plain": [
       "     COL1  COL2  COL3  COL4  PREDICT  COL1_SCALED  COL2_SCALED  COL3_SCALED  \\\n",
       "0     5.1   3.5   1.4   0.2        0     0.222222     0.625000     0.067797   \n",
       "1     4.9   3.0   1.4   0.2        0     0.166667     0.416667     0.067797   \n",
       "2     4.7   3.2   1.3   0.2        0     0.111111     0.500000     0.050847   \n",
       "3     4.6   3.1   1.5   0.2        0     0.083333     0.458333     0.084746   \n",
       "4     5.0   3.6   1.4   0.2        0     0.194444     0.666667     0.067797   \n",
       "..    ...   ...   ...   ...      ...          ...          ...          ...   \n",
       "145   6.7   3.0   5.2   2.3        2     0.666667     0.416667     0.711864   \n",
       "146   6.3   2.5   5.0   1.9        2     0.555556     0.208333     0.677966   \n",
       "147   6.5   3.0   5.2   2.0        2     0.611111     0.416667     0.711864   \n",
       "148   6.2   3.4   5.4   2.3        2     0.527778     0.583333     0.745763   \n",
       "149   5.9   3.0   5.1   1.8        2     0.444444     0.416667     0.694915   \n",
       "\n",
       "     COL4_SCALED  \n",
       "0       0.041667  \n",
       "1       0.041667  \n",
       "2       0.041667  \n",
       "3       0.041667  \n",
       "4       0.041667  \n",
       "..           ...  \n",
       "145     0.916667  \n",
       "146     0.750000  \n",
       "147     0.791667  \n",
       "148     0.916667  \n",
       "149     0.708333  \n",
       "\n",
       "[150 rows x 9 columns]"
      ]
     },
     "execution_count": 4,
     "metadata": {},
     "output_type": "execute_result"
    }
   ],
   "source": [
    "min_max_scaler2 = session.MinMaxEstimator(input_columns=['COL3', 'COL4'], output_columns=['COL3_scaled', 'COL4_scaled']);\n",
    "min_max_model2 = min_max_scaler2.fit(dataset)\n",
    "min_max_model2\n",
    "# use Stored Procedure \n",
    "# fit_run_id = storedprocedure(dataframe, input_cols, output_cols)\n",
    "dataset = min_max_model2.transform(dataset)\n",
    "dataset\n",
    "# transform will be a SP\n",
    "\n",
    "# dataframe = storedprocedure(dataframe, fit_run_id) -- instead of returning a dataframe, we can return a column expression\n",
    "dataset.to_pandas()"
   ]
  },
  {
   "cell_type": "code",
   "execution_count": 9,
   "id": "29b0af76",
   "metadata": {},
   "outputs": [
    {
     "name": "stdout",
     "output_type": "stream",
     "text": [
      "select * from columns_metadata where dataset_version = 'yxmfzoerdi' and column_name = 'COL1';\n",
      "select * from columns_metadata where dataset_version = 'yxmfzoerdi' and column_name = 'COL2';\n",
      "with temp_table as ( select * from iris_data ) select *, (COL1 - 4.3)/(7.9 - 4.3) as COL1_scaled, (COL2 - 2)/(4.4 - 2) as COL2_scaled from temp_table;\n"
     ]
    },
    {
     "data": {
      "text/plain": [
       "<snowflake.snowpark.dataframe.DataFrame at 0x7fea5d76cd60>"
      ]
     },
     "execution_count": 9,
     "metadata": {},
     "output_type": "execute_result"
    }
   ],
   "source": []
  },
  {
   "cell_type": "code",
   "execution_count": 4,
   "id": "79f85ca8",
   "metadata": {},
   "outputs": [
    {
     "name": "stdout",
     "output_type": "stream",
     "text": [
      "[Row(CURRENT_WAREHOUSE()='COMPUTE_SERVICE_WH', CURRENT_DATABASE()='BJIANG', CURRENT_SCHEMA()='PUBLIC')]\n",
      "insert into columns_metadata select '81e23787-658c-44bd-8209-8517fefa16f2', 'FARE_AMOUNT', 'double', 'place_holder', false, NULL, object_construct('min', -300.0,'max', 93963.36,'avg', 11.345045601662935);\n",
      "select * from columns_metadata where dataset_version = '81e23787-658c-44bd-8209-8517fefa16f2' and column_name = 'FARE_AMOUNT';\n",
      "insert into columns_metadata select '81e23787-658c-44bd-8209-8517fefa16f2', 'FARE_AMOUNT_IMPUTED', 'double', 'place_holder', false, NULL, object_construct('min', -300,'max', 93963.36,'avg', 11.345045601662935);\n",
      "select * from columns_metadata where dataset_version = '81e23787-658c-44bd-8209-8517fefa16f2' and column_name = 'FARE_AMOUNT';\n",
      "with temp_table_cde1b28f_6608_4e63_bce1_cc729d2626a1 as ( select FARE_AMOUNT from nytrain ) select *, coalesce(FARE_AMOUNT, 11.345045601662935) as FARE_AMOUNT_IMPUTED from temp_table_cde1b28f_6608_4e63_bce1_cc729d2626a1\n",
      "select * from columns_metadata where dataset_version = '81e23787-658c-44bd-8209-8517fefa16f2' and column_name = 'FARE_AMOUNT_IMPUTED';\n",
      "select * from columns_metadata where dataset_version = '81e23787-658c-44bd-8209-8517fefa16f2' and column_name = 'FARE_AMOUNT';\n",
      "with temp_table_58e52395_f859_4d47_9ae7_5f8e417d85d8 as ( select FARE_AMOUNT from nytrain ) select *, coalesce(FARE_AMOUNT, 11.345045601662935) as FARE_AMOUNT_IMPUTED from temp_table_58e52395_f859_4d47_9ae7_5f8e417d85d8\n",
      "select * from columns_metadata where dataset_version = '81e23787-658c-44bd-8209-8517fefa16f2' and column_name = 'FARE_AMOUNT_IMPUTED';\n"
     ]
    }
   ],
   "source": [
    "print(session.sql('select current_warehouse(), current_database(), current_schema()').collect())\n",
    "\n",
    "\n",
    "dataframe = session.sql('select FARE_AMOUNT from nytrain')\n",
    "dataset = session.dataset(dataframe)\n",
    "imputer = session.Imputer(input_columns=['FARE_AMOUNT'],\n",
    "                          output_columns=['FARE_AMOUNT_IMPUTED']\n",
    "                         );\n",
    "min_max_scaler2 = session.MinMaxEstimator(input_columns=['FARE_AMOUNT_IMPUTED'],\n",
    "                                          output_columns=['FARE_AMOUNT_SCALED']\n",
    "                                         );\n",
    "pipeline = session.Pipeline([imputer, min_max_scaler2])\n",
    "pipeline = pipeline.fit(dataset)\n",
    "dataset = pipeline.transform(dataset)\n",
    "\n",
    "#pt_dataset = snowml.torch.dataset(dataset)\n",
    "\n",
    "#model = nn.Model\n",
    "\n",
    "#for batch in dataloader(pt_dataset):\n",
    "    \n",
    "#dataset.to_pandas()"
   ]
  },
  {
   "cell_type": "code",
   "execution_count": 5,
   "id": "5abf75d9",
   "metadata": {},
   "outputs": [
    {
     "data": {
      "text/plain": [
       "<snowflake.snowpark.dataframe.DataFrame at 0x7f15045d6310>"
      ]
     },
     "execution_count": 5,
     "metadata": {},
     "output_type": "execute_result"
    }
   ],
   "source": [
    "dataset"
   ]
  },
  {
   "cell_type": "code",
   "execution_count": 7,
   "id": "a912b64b",
   "metadata": {},
   "outputs": [],
   "source": [
    "pdf = dataset.to_pandas()"
   ]
  },
  {
   "cell_type": "code",
   "execution_count": 8,
   "id": "f399c5fd",
   "metadata": {},
   "outputs": [
    {
     "data": {
      "text/plain": [
       "Index                        128\n",
       "FARE_AMOUNT            443390848\n",
       "FARE_AMOUNT_IMPUTED    443390848\n",
       "FARE_AMOUNT_SCALED     443390848\n",
       "dtype: int64"
      ]
     },
     "execution_count": 8,
     "metadata": {},
     "output_type": "execute_result"
    }
   ],
   "source": [
    "pdf.memory_usage()"
   ]
  },
  {
   "cell_type": "code",
   "execution_count": 4,
   "id": "cf9569ba",
   "metadata": {},
   "outputs": [
    {
     "name": "stdout",
     "output_type": "stream",
     "text": [
      "10666.476276 ms\n"
     ]
    }
   ],
   "source": [
    "import time\n",
    "s = time.time_ns()\n",
    "dataframe = session.sql('select FARE_AMOUNT from nytrain')\n",
    "dataset = session.dataset(dataframe)\n",
    "imputer = session.Imputer(input_columns=['FARE_AMOUNT'],\n",
    "                          output_columns=['FARE_AMOUNT_IMPUTED']\n",
    "                         );\n",
    "min_max_scaler2 = session.MinMaxEstimator(input_columns=['FARE_AMOUNT_IMPUTED'],\n",
    "                                          output_columns=['FARE_AMOUNT_SCALED']\n",
    "                                         );\n",
    "pipeline = session.Pipeline([imputer, min_max_scaler2])\n",
    "pipeline = pipeline.fit(dataset)\n",
    "e = time.time_ns()\n",
    "print (str((e-s)/1000000) + \" ms\")"
   ]
  },
  {
   "cell_type": "code",
   "execution_count": 5,
   "id": "d67c879b",
   "metadata": {},
   "outputs": [
    {
     "name": "stdout",
     "output_type": "stream",
     "text": [
      "1435.49792 ms\n"
     ]
    }
   ],
   "source": [
    "s = time.time_ns()\n",
    "transformed_dataset = pipeline.transform(dataset)\n",
    "e = time.time_ns()\n",
    "print (str((e-s)/1000000) + \" ms\")"
   ]
  },
  {
   "cell_type": "code",
   "execution_count": 7,
   "id": "67a4fb4e",
   "metadata": {},
   "outputs": [
    {
     "name": "stderr",
     "output_type": "stream",
     "text": [
      "/home/pdorairaj/.local/lib/python3.8/site-packages/sklearn/linear_model/_stochastic_gradient.py:705: ConvergenceWarning: Maximum number of iteration reached before convergence. Consider increasing max_iter to improve the fit.\n",
      "  warnings.warn(\n"
     ]
    },
    {
     "data": {
      "text/html": [
       "<style>#sk-container-id-2 {color: black;background-color: white;}#sk-container-id-2 pre{padding: 0;}#sk-container-id-2 div.sk-toggleable {background-color: white;}#sk-container-id-2 label.sk-toggleable__label {cursor: pointer;display: block;width: 100%;margin-bottom: 0;padding: 0.3em;box-sizing: border-box;text-align: center;}#sk-container-id-2 label.sk-toggleable__label-arrow:before {content: \"▸\";float: left;margin-right: 0.25em;color: #696969;}#sk-container-id-2 label.sk-toggleable__label-arrow:hover:before {color: black;}#sk-container-id-2 div.sk-estimator:hover label.sk-toggleable__label-arrow:before {color: black;}#sk-container-id-2 div.sk-toggleable__content {max-height: 0;max-width: 0;overflow: hidden;text-align: left;background-color: #f0f8ff;}#sk-container-id-2 div.sk-toggleable__content pre {margin: 0.2em;color: black;border-radius: 0.25em;background-color: #f0f8ff;}#sk-container-id-2 input.sk-toggleable__control:checked~div.sk-toggleable__content {max-height: 200px;max-width: 100%;overflow: auto;}#sk-container-id-2 input.sk-toggleable__control:checked~label.sk-toggleable__label-arrow:before {content: \"▾\";}#sk-container-id-2 div.sk-estimator input.sk-toggleable__control:checked~label.sk-toggleable__label {background-color: #d4ebff;}#sk-container-id-2 div.sk-label input.sk-toggleable__control:checked~label.sk-toggleable__label {background-color: #d4ebff;}#sk-container-id-2 input.sk-hidden--visually {border: 0;clip: rect(1px 1px 1px 1px);clip: rect(1px, 1px, 1px, 1px);height: 1px;margin: -1px;overflow: hidden;padding: 0;position: absolute;width: 1px;}#sk-container-id-2 div.sk-estimator {font-family: monospace;background-color: #f0f8ff;border: 1px dotted black;border-radius: 0.25em;box-sizing: border-box;margin-bottom: 0.5em;}#sk-container-id-2 div.sk-estimator:hover {background-color: #d4ebff;}#sk-container-id-2 div.sk-parallel-item::after {content: \"\";width: 100%;border-bottom: 1px solid gray;flex-grow: 1;}#sk-container-id-2 div.sk-label:hover label.sk-toggleable__label {background-color: #d4ebff;}#sk-container-id-2 div.sk-serial::before {content: \"\";position: absolute;border-left: 1px solid gray;box-sizing: border-box;top: 0;bottom: 0;left: 50%;z-index: 0;}#sk-container-id-2 div.sk-serial {display: flex;flex-direction: column;align-items: center;background-color: white;padding-right: 0.2em;padding-left: 0.2em;position: relative;}#sk-container-id-2 div.sk-item {position: relative;z-index: 1;}#sk-container-id-2 div.sk-parallel {display: flex;align-items: stretch;justify-content: center;background-color: white;position: relative;}#sk-container-id-2 div.sk-item::before, #sk-container-id-2 div.sk-parallel-item::before {content: \"\";position: absolute;border-left: 1px solid gray;box-sizing: border-box;top: 0;bottom: 0;left: 50%;z-index: -1;}#sk-container-id-2 div.sk-parallel-item {display: flex;flex-direction: column;z-index: 1;position: relative;background-color: white;}#sk-container-id-2 div.sk-parallel-item:first-child::after {align-self: flex-end;width: 50%;}#sk-container-id-2 div.sk-parallel-item:last-child::after {align-self: flex-start;width: 50%;}#sk-container-id-2 div.sk-parallel-item:only-child::after {width: 0;}#sk-container-id-2 div.sk-dashed-wrapped {border: 1px dashed gray;margin: 0 0.4em 0.5em 0.4em;box-sizing: border-box;padding-bottom: 0.4em;background-color: white;}#sk-container-id-2 div.sk-label label {font-family: monospace;font-weight: bold;display: inline-block;line-height: 1.2em;}#sk-container-id-2 div.sk-label-container {text-align: center;}#sk-container-id-2 div.sk-container {/* jupyter's `normalize.less` sets `[hidden] { display: none; }` but bootstrap.min.css set `[hidden] { display: none !important; }` so we also need the `!important` here to be able to override the default hidden behavior on the sphinx rendered scikit-learn.org. See: https://github.com/scikit-learn/scikit-learn/issues/21755 */display: inline-block !important;position: relative;}#sk-container-id-2 div.sk-text-repr-fallback {display: none;}</style><div id=\"sk-container-id-2\" class=\"sk-top-container\"><div class=\"sk-text-repr-fallback\"><pre>SGDClassifier(max_iter=1)</pre><b>In a Jupyter environment, please rerun this cell to show the HTML representation or trust the notebook. <br />On GitHub, the HTML representation is unable to render, please try loading this page with nbviewer.org.</b></div><div class=\"sk-container\" hidden><div class=\"sk-item\"><div class=\"sk-estimator sk-toggleable\"><input class=\"sk-toggleable__control sk-hidden--visually\" id=\"sk-estimator-id-2\" type=\"checkbox\" checked><label for=\"sk-estimator-id-2\" class=\"sk-toggleable__label sk-toggleable__label-arrow\">SGDClassifier</label><div class=\"sk-toggleable__content\"><pre>SGDClassifier(max_iter=1)</pre></div></div></div></div></div>"
      ],
      "text/plain": [
       "SGDClassifier(max_iter=1)"
      ]
     },
     "execution_count": 7,
     "metadata": {},
     "output_type": "execute_result"
    }
   ],
   "source": [
    "from sklearn.linear_model import SGDClassifier\n",
    "X = [[0., 0.], [1., 1.]]\n",
    "y = [0, 1]\n",
    "clf = SGDClassifier(loss=\"hinge\", penalty=\"l2\", max_iter=1)\n",
    "clf.fit(X, y)\n"
   ]
  },
  {
   "cell_type": "code",
   "execution_count": 12,
   "id": "b0aa0056",
   "metadata": {},
   "outputs": [
    {
     "data": {
      "text/plain": [
       "array([[9.99000999, 9.99000999]])"
      ]
     },
     "execution_count": 12,
     "metadata": {},
     "output_type": "execute_result"
    }
   ],
   "source": [
    "clf.coef_"
   ]
  },
  {
   "cell_type": "code",
   "execution_count": 10,
   "id": "4e1f50dc",
   "metadata": {},
   "outputs": [
    {
     "data": {
      "text/plain": [
       "array([0.00999001])"
      ]
     },
     "execution_count": 10,
     "metadata": {},
     "output_type": "execute_result"
    }
   ],
   "source": [
    "clf.intercept_"
   ]
  },
  {
   "cell_type": "code",
   "execution_count": 11,
   "id": "4a0a2b21",
   "metadata": {},
   "outputs": [
    {
     "name": "stderr",
     "output_type": "stream",
     "text": [
      "/home/pdorairaj/.local/lib/python3.8/site-packages/sklearn/linear_model/_stochastic_gradient.py:705: ConvergenceWarning: Maximum number of iteration reached before convergence. Consider increasing max_iter to improve the fit.\n",
      "  warnings.warn(\n"
     ]
    },
    {
     "data": {
      "text/html": [
       "<style>#sk-container-id-3 {color: black;background-color: white;}#sk-container-id-3 pre{padding: 0;}#sk-container-id-3 div.sk-toggleable {background-color: white;}#sk-container-id-3 label.sk-toggleable__label {cursor: pointer;display: block;width: 100%;margin-bottom: 0;padding: 0.3em;box-sizing: border-box;text-align: center;}#sk-container-id-3 label.sk-toggleable__label-arrow:before {content: \"▸\";float: left;margin-right: 0.25em;color: #696969;}#sk-container-id-3 label.sk-toggleable__label-arrow:hover:before {color: black;}#sk-container-id-3 div.sk-estimator:hover label.sk-toggleable__label-arrow:before {color: black;}#sk-container-id-3 div.sk-toggleable__content {max-height: 0;max-width: 0;overflow: hidden;text-align: left;background-color: #f0f8ff;}#sk-container-id-3 div.sk-toggleable__content pre {margin: 0.2em;color: black;border-radius: 0.25em;background-color: #f0f8ff;}#sk-container-id-3 input.sk-toggleable__control:checked~div.sk-toggleable__content {max-height: 200px;max-width: 100%;overflow: auto;}#sk-container-id-3 input.sk-toggleable__control:checked~label.sk-toggleable__label-arrow:before {content: \"▾\";}#sk-container-id-3 div.sk-estimator input.sk-toggleable__control:checked~label.sk-toggleable__label {background-color: #d4ebff;}#sk-container-id-3 div.sk-label input.sk-toggleable__control:checked~label.sk-toggleable__label {background-color: #d4ebff;}#sk-container-id-3 input.sk-hidden--visually {border: 0;clip: rect(1px 1px 1px 1px);clip: rect(1px, 1px, 1px, 1px);height: 1px;margin: -1px;overflow: hidden;padding: 0;position: absolute;width: 1px;}#sk-container-id-3 div.sk-estimator {font-family: monospace;background-color: #f0f8ff;border: 1px dotted black;border-radius: 0.25em;box-sizing: border-box;margin-bottom: 0.5em;}#sk-container-id-3 div.sk-estimator:hover {background-color: #d4ebff;}#sk-container-id-3 div.sk-parallel-item::after {content: \"\";width: 100%;border-bottom: 1px solid gray;flex-grow: 1;}#sk-container-id-3 div.sk-label:hover label.sk-toggleable__label {background-color: #d4ebff;}#sk-container-id-3 div.sk-serial::before {content: \"\";position: absolute;border-left: 1px solid gray;box-sizing: border-box;top: 0;bottom: 0;left: 50%;z-index: 0;}#sk-container-id-3 div.sk-serial {display: flex;flex-direction: column;align-items: center;background-color: white;padding-right: 0.2em;padding-left: 0.2em;position: relative;}#sk-container-id-3 div.sk-item {position: relative;z-index: 1;}#sk-container-id-3 div.sk-parallel {display: flex;align-items: stretch;justify-content: center;background-color: white;position: relative;}#sk-container-id-3 div.sk-item::before, #sk-container-id-3 div.sk-parallel-item::before {content: \"\";position: absolute;border-left: 1px solid gray;box-sizing: border-box;top: 0;bottom: 0;left: 50%;z-index: -1;}#sk-container-id-3 div.sk-parallel-item {display: flex;flex-direction: column;z-index: 1;position: relative;background-color: white;}#sk-container-id-3 div.sk-parallel-item:first-child::after {align-self: flex-end;width: 50%;}#sk-container-id-3 div.sk-parallel-item:last-child::after {align-self: flex-start;width: 50%;}#sk-container-id-3 div.sk-parallel-item:only-child::after {width: 0;}#sk-container-id-3 div.sk-dashed-wrapped {border: 1px dashed gray;margin: 0 0.4em 0.5em 0.4em;box-sizing: border-box;padding-bottom: 0.4em;background-color: white;}#sk-container-id-3 div.sk-label label {font-family: monospace;font-weight: bold;display: inline-block;line-height: 1.2em;}#sk-container-id-3 div.sk-label-container {text-align: center;}#sk-container-id-3 div.sk-container {/* jupyter's `normalize.less` sets `[hidden] { display: none; }` but bootstrap.min.css set `[hidden] { display: none !important; }` so we also need the `!important` here to be able to override the default hidden behavior on the sphinx rendered scikit-learn.org. See: https://github.com/scikit-learn/scikit-learn/issues/21755 */display: inline-block !important;position: relative;}#sk-container-id-3 div.sk-text-repr-fallback {display: none;}</style><div id=\"sk-container-id-3\" class=\"sk-top-container\"><div class=\"sk-text-repr-fallback\"><pre>SGDClassifier(max_iter=1)</pre><b>In a Jupyter environment, please rerun this cell to show the HTML representation or trust the notebook. <br />On GitHub, the HTML representation is unable to render, please try loading this page with nbviewer.org.</b></div><div class=\"sk-container\" hidden><div class=\"sk-item\"><div class=\"sk-estimator sk-toggleable\"><input class=\"sk-toggleable__control sk-hidden--visually\" id=\"sk-estimator-id-3\" type=\"checkbox\" checked><label for=\"sk-estimator-id-3\" class=\"sk-toggleable__label sk-toggleable__label-arrow\">SGDClassifier</label><div class=\"sk-toggleable__content\"><pre>SGDClassifier(max_iter=1)</pre></div></div></div></div></div>"
      ],
      "text/plain": [
       "SGDClassifier(max_iter=1)"
      ]
     },
     "execution_count": 11,
     "metadata": {},
     "output_type": "execute_result"
    }
   ],
   "source": [
    "clf.fit(X, y)"
   ]
  },
  {
   "cell_type": "code",
   "execution_count": 13,
   "id": "782c73e8",
   "metadata": {},
   "outputs": [
    {
     "data": {
      "text/plain": [
       "array([0.00999001])"
      ]
     },
     "execution_count": 13,
     "metadata": {},
     "output_type": "execute_result"
    }
   ],
   "source": [
    "clf.intercept_"
   ]
  },
  {
   "cell_type": "code",
   "execution_count": null,
   "id": "215dd441",
   "metadata": {},
   "outputs": [],
   "source": []
  }
 ],
 "metadata": {
  "kernelspec": {
   "display_name": "Python 3 (ipykernel)",
   "language": "python",
   "name": "python3"
  },
  "language_info": {
   "codemirror_mode": {
    "name": "ipython",
    "version": 3
   },
   "file_extension": ".py",
   "mimetype": "text/x-python",
   "name": "python",
   "nbconvert_exporter": "python",
   "pygments_lexer": "ipython3",
   "version": "3.8.12"
  }
 },
 "nbformat": 4,
 "nbformat_minor": 5
}
